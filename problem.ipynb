{
 "cells": [
  {
   "cell_type": "markdown",
   "metadata": {},
   "source": [
    "# Programming Test Conference room scheduling. \n",
    "### Find the nearest open conference room for a team in which a team can hold its meeting. \n",
    "\n",
    "Given n team members with the floor on which they work and the time\n",
    "they want to meet, and a list of conference rooms identified by their floor and room number as a decimal\n",
    "number, maximum number of people it fits and pairs of times they are open - find the best place for the\n",
    "team to have their meeting. If there is more than one room available that fits the team at the chosen time\n",
    "then the best place is on the floor the closest to where the team works. \n",
    "\n",
    "\n",
    "```E.g. rooms.txt\n",
    "7.11,8,9:00,9:15,14:30,15:00 8.23,6,10:00,11:00,14:00,15:00 8.43,7,11:30,12:30,17:00,17:30\n",
    "9.511,9,9:30,10:30,12:00,12:15,15:15,16:15 9.527,4,9:00,11:00,14:00,16:00\n",
    "9.547,8,10;30,11:30,13:30,15:30,16:30,17:30 \n",
    "```\n",
    "\n",
    "__Input__: 5,8,10:30,11:30 # 5 team members, located on the\n",
    "8th floor, meeting time 10:30 - 11:30 \n",
    "\n",
    "__Output__: 9.547"
   ]
  },
  {
   "cell_type": "code",
   "execution_count": 25,
   "metadata": {},
   "outputs": [],
   "source": [
    "# Form a file if not present and read from the file...\n",
    "\n",
    "#Create a file.. \n",
    "import os.path\n",
    "from os import path\n",
    "\n",
    "default_room = \"7.11,8,9:00,9:15,14:30,15:00 8.23,6,10:00,11:00,14:00,15:00 8.43,7,11:30,12:30,17:00,17:30 9.511,9,9:30,10:30,12:00,12:15,15:15,16:15 9.527,4,9:00,11:00,14:00,16:00 9.547,8,10:30,11:30,13:30,15:30,16:30,17:30\"\n",
    "default_file = \"room.txt\"\n",
    "if not path.exists(default_file):\n",
    "    fp = open(default_file, \"w\")\n",
    "    fp.write(default_room)\n",
    "    fp.close()\n",
    "\n",
    "fp = open(default_file, \"r\")\n",
    "room = fp.read()\n",
    "rooms_list = room.split(\" \") # Split to see the all rooms that are available..."
   ]
  },
  {
   "cell_type": "code",
   "execution_count": 54,
   "metadata": {},
   "outputs": [
    {
     "name": "stdout",
     "output_type": "stream",
     "text": [
      "[(8, 7, '9:00', 15, '7.11'), (8, 7, '9:15', 315, '7.11'), (8, 7, '14:30', 30, '7.11'), (8, 7, '15:00', 180, '7.11'), (6, 8, '10:00', 60, '8.23'), (6, 8, '11:00', 180, '8.23'), (6, 8, '14:00', 60, '8.23'), (6, 8, '15:00', 180, '8.23'), (7, 8, '11:30', 60, '8.43'), (7, 8, '12:30', 270, '8.43'), (7, 8, '17:00', 30, '8.43'), (7, 8, '17:30', 30, '8.43'), (9, 9, '9:30', 60, '9.511'), (9, 9, '10:30', 90, '9.511'), (9, 9, '12:00', 15, '9.511'), (9, 9, '12:15', 180, '9.511'), (9, 9, '15:15', 60, '9.511'), (9, 9, '16:15', 105, '9.511'), (4, 9, '9:00', 120, '9.527'), (4, 9, '11:00', 180, '9.527'), (4, 9, '14:00', 120, '9.527'), (4, 9, '16:00', 120, '9.527'), (8, 9, '10:30', 60, '9.547'), (8, 9, '11:30', 120, '9.547'), (8, 9, '13:30', 120, '9.547'), (8, 9, '15:30', 60, '9.547'), (8, 9, '16:30', 60, '9.547'), (8, 9, '17:30', 30, '9.547')]\n"
     ]
    }
   ],
   "source": [
    "from datetime import datetime\n",
    "closingTime = '18:00' # Assuming the meeting rooms are available till 6 PM in evening.\n",
    "FMT = \"%H:%M\"\n",
    "def duration_calc(larger, smaller):\n",
    "    time = datetime.strptime(roomTimes[ind+1], FMT) - datetime.strptime(roomTimes[ind], FMT)\n",
    "    return int(time.total_seconds()/60)\n",
    "dic = []\n",
    "for room in rooms_list:\n",
    "    room = room.split(',')\n",
    "    roomNo = room[0] \n",
    "    roomCapacity = int(room[1]) \n",
    "    roomTimes = room[2:]\n",
    "    if len(roomTimes)!=0:\n",
    "        roomTimes.append(closingTime)\n",
    "        for ind in range(len(roomTimes)-1):\n",
    "            duration = duration_calc(roomTimes[ind+1], roomTimes[ind])\n",
    "            dic.append((roomCapacity, int(roomNo.split('.')[0]), roomTimes[ind], duration, roomNo))\n",
    "print(dic)            "
   ]
  },
  {
   "cell_type": "code",
   "execution_count": 53,
   "metadata": {
    "scrolled": true
   },
   "outputs": [
    {
     "name": "stdout",
     "output_type": "stream",
     "text": [
      "5 8 10:30 30\n"
     ]
    }
   ],
   "source": [
    "# We can prioratize the meeting with capacity first, floor, Time, Duration...\n",
    "inp = \"5,8,10:30,11:30\"\n",
    "inp_list = inp.split(',')\n",
    "capacity = inp_list[0]\n",
    "floor = inp_list[1]\n",
    "start = inp_list[2]\n",
    "duration = duration_calc(inp_list[3], inp_list[2])\n",
    "inp_tup = (capacity, floor, start, duration)\n",
    "print(capacity, floor, start, duration)"
   ]
  }
 ],
 "metadata": {
  "kernelspec": {
   "display_name": "Python 3",
   "language": "python",
   "name": "python3"
  },
  "language_info": {
   "codemirror_mode": {
    "name": "ipython",
    "version": 3
   },
   "file_extension": ".py",
   "mimetype": "text/x-python",
   "name": "python",
   "nbconvert_exporter": "python",
   "pygments_lexer": "ipython3",
   "version": "3.7.3"
  }
 },
 "nbformat": 4,
 "nbformat_minor": 4
}
